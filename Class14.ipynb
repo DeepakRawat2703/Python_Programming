{
  "nbformat": 4,
  "nbformat_minor": 0,
  "metadata": {
    "colab": {
      "name": "Untitled0.ipynb",
      "provenance": [],
      "collapsed_sections": [],
      "authorship_tag": "ABX9TyPyeDg6/uedhsiMvqDb4C1v",
      "include_colab_link": true
    },
    "kernelspec": {
      "name": "python3",
      "display_name": "Python 3"
    },
    "language_info": {
      "name": "python"
    }
  },
  "cells": [
    {
      "cell_type": "markdown",
      "metadata": {
        "id": "view-in-github",
        "colab_type": "text"
      },
      "source": [
        "<a href=\"https://colab.research.google.com/github/DeepakRawat2703/Python_Programming/blob/main/Class14.ipynb\" target=\"_parent\"><img src=\"https://colab.research.google.com/assets/colab-badge.svg\" alt=\"Open In Colab\"/></a>"
      ]
    },
    {
      "cell_type": "code",
      "metadata": {
        "id": "cgsqUAZmYlrm"
      },
      "source": [
        "#norse=\"vikings\"\n",
        "#stringTo_tuple=tuple(norse)\n",
        "#stringTo_tuple\n",
        "#('v','i','k','i','n','g','s')\n",
        "\n",
        "letters=(\"a\",\"b\",\"c\")\n",
        "numbers=(1,2,3)\n",
        "nested_tuples=(letters,numbers)\n",
        "nested_tuples\n",
        "tuple(\"welcome\")\n",
        "\n",
        "#li=[1,\"Deepak\"]\n",
        "#tup=(li,\"Deepak\")\n",
        "#print(tup)\n",
        "\n",
        "colours=(\"v\",\"i\",\"b\",\"b\",\"g\",\"y\",\"o\",\"r\")\n",
        "print(colours)\n",
        "print(colours[1:4])\n",
        "print(colours[:5])\n",
        "print(colours[3:])\n",
        "print(colours[:])\n",
        "print(colours[-5:-2])\n",
        "print(colours[1:5:2])\n",
        "\n",
        "years=(1993,1999,2000,2002)\n",
        "print(len(years))\n",
        "print(sum(years))\n",
        "\n",
        "F=(\"cat\",\"dog\",\"parrot\",\"crow\")\n",
        "pet_list=list(F)\n",
        "print(pet_list)\n",
        "\n",
        "german_cars=[\"porsche\",\"audi\",\"bmw\"]\n",
        "european_cars=(\"ferrari\",\"volvo\",\"renault\",['porsche','audi','bmw'])\n",
        "print(german_cars)\n",
        "print(european_cars)"
      ],
      "execution_count": null,
      "outputs": []
    },
    {
      "cell_type": "code",
      "metadata": {
        "id": "0x-d1f2H-IN5"
      },
      "source": [
        ""
      ],
      "execution_count": null,
      "outputs": []
    },
    {
      "cell_type": "code",
      "metadata": {
        "id": "catc3i6Ac-fn",
        "colab": {
          "base_uri": "https://localhost:8080/"
        },
        "outputId": "b2fba588-dbee-4f0b-e525-eb8383924799"
      },
      "source": [
        "a1= input(\"Enter the string:\")\n",
        "\n",
        "if (a1==a1[::-1]):\n",
        "  print(\"It is a Pallindrome number\")\n",
        "else:\n",
        "  print(\"It is not a pallindrome number\")\n"
      ],
      "execution_count": null,
      "outputs": [
        {
          "output_type": "stream",
          "text": [
            "Enter the string:1234\n",
            "It is not a pallindrome number\n"
          ],
          "name": "stdout"
        }
      ]
    },
    {
      "cell_type": "code",
      "metadata": {
        "colab": {
          "base_uri": "https://localhost:8080/"
        },
        "id": "SvIatVqFwQXw",
        "outputId": "0105202d-3b97-467b-fa27-c39b7ab72436"
      },
      "source": [
        "s1=input(\"enter the word: \")\n",
        "vo_count=0;\n",
        "co_count=0;\n",
        "\n",
        "for i in s1:\n",
        "  if i=='a' or i=='e' or i=='i' or i=='o' or i=='u' or i=='A' or i=='E' or i=='I' or i=='O' or i=='U':\n",
        "    vo_count=vo_count+1\n",
        "  else:\n",
        "    co_count=co_count+1\n",
        "print(\"No. of vowel is: \", vo_count)\n",
        "print(\"No. of vowel is: \", co_count)\n",
        "    "
      ],
      "execution_count": null,
      "outputs": [
        {
          "output_type": "stream",
          "text": [
            "enter the word: Deepak\n",
            "No. of vowel is:  3\n",
            "No. of vowel is:  3\n"
          ],
          "name": "stdout"
        }
      ]
    },
    {
      "cell_type": "code",
      "metadata": {
        "colab": {
          "base_uri": "https://localhost:8080/"
        },
        "id": "shJD9edGyQBr",
        "outputId": "b00d4357-858f-4153-ec67-f6a9e4c393e4"
      },
      "source": [
        "#common strings\n",
        "st1=input(\"Enter the string: \")\n",
        "st2=input(\"Enter the string: \")\n",
        "print(\"Common alphabets: \")\n",
        "for i in range(len(st1)):\n",
        "  if st1[i] in st2:\n",
        "    print(st1[i])\n"
      ],
      "execution_count": null,
      "outputs": [
        {
          "output_type": "stream",
          "text": [
            "Enter the string: Pauri\n",
            "Enter the string: Garhwal\n",
            "Common alphabets: \n",
            "a\n",
            "r\n"
          ],
          "name": "stdout"
        }
      ]
    },
    {
      "cell_type": "code",
      "metadata": {
        "colab": {
          "base_uri": "https://localhost:8080/"
        },
        "id": "cm24E4bIzTO0",
        "outputId": "83bc159e-182f-481f-e2cc-2e91cbab46f6"
      },
      "source": [
        "#If strings are pallindrome or not\n",
        "str1=input(\"Enter the word: \")\n",
        "def pal(s):\n",
        "  f=1\n",
        "  for i in range(len(s)):\n",
        "    if s[i]!=s[len(s)-1-i]:\n",
        "      f=0\n",
        "  return f;\n",
        "a=pal(str1)\n",
        "if a==1:\n",
        "  print(\"It is a pallindrome\")\n",
        "else:\n",
        "  print(\"It is not a pallindrome\")"
      ],
      "execution_count": null,
      "outputs": [
        {
          "output_type": "stream",
          "text": [
            "Enter the word: Deepak\n",
            "It is not a pallindrome\n"
          ],
          "name": "stdout"
        }
      ]
    },
    {
      "cell_type": "code",
      "metadata": {
        "colab": {
          "base_uri": "https://localhost:8080/"
        },
        "id": "M5x6qmFY-jcA",
        "outputId": "b67be8ac-a713-411f-a3d8-386f71f04418"
      },
      "source": [
        "x=[1,2,3,7]\n",
        "y=[4,5,6,8]\n",
        "zipped=zip(x,y)\n",
        "print(list(zipped))\n",
        "\n",
        "ques=('name:','favourite colour:','favourite car brand:')\n",
        "ans=('Deepak Rawat','Violet','Tata and Mahindra')\n",
        "for q,a in zip(ques,ans):\n",
        "  print(f'what is your {q}? It is {a}.')"
      ],
      "execution_count": null,
      "outputs": [
        {
          "output_type": "stream",
          "text": [
            "[(1, 4), (2, 5), (3, 6), (7, 8)]\n",
            "what is your name:? It is Deepak Rawat.\n",
            "what is your favourite colour:? It is Violet.\n",
            "what is your favourite car brand:? It is Tata and Mahindra.\n"
          ],
          "name": "stdout"
        }
      ]
    },
    {
      "cell_type": "code",
      "metadata": {
        "id": "JD6jHnxRBWYT",
        "colab": {
          "base_uri": "https://localhost:8080/"
        },
        "outputId": "abdb8f03-36a9-4e9d-888a-fd637fbd671f"
      },
      "source": [
        "basket={'apple','orange','apple','watermelon','mango','banana'}\n",
        "print(basket)\n",
        "'banana' in basket\n",
        "a=set('abcdacfeghdrs')\n",
        "b=set('afgshedrsjuq')\n",
        "print(a)\n",
        "print(b)\n",
        "print(a-b)\n",
        "print(a|b)\n",
        "print(a&b)\n",
        "print(a^b)\n",
        "print(len(basket))"
      ],
      "execution_count": 7,
      "outputs": [
        {
          "output_type": "stream",
          "text": [
            "{'orange', 'mango', 'apple', 'watermelon', 'banana'}\n",
            "{'d', 'c', 'h', 'r', 's', 'a', 'b', 'e', 'g', 'f'}\n",
            "{'d', 'h', 'r', 'q', 's', 'a', 'e', 'g', 'f', 'j', 'u'}\n",
            "{'b', 'c'}\n",
            "{'d', 'c', 'h', 'r', 'q', 'a', 'g', 'u', 's', 'b', 'e', 'f', 'j'}\n",
            "{'d', 'h', 'r', 's', 'a', 'e', 'g', 'f'}\n",
            "{'c', 'q', 'b', 'j', 'u'}\n",
            "5\n"
          ],
          "name": "stdout"
        }
      ]
    },
    {
      "cell_type": "code",
      "metadata": {
        "colab": {
          "base_uri": "https://localhost:8080/"
        },
        "id": "PEp528QgIxPJ",
        "outputId": "bb0b78a6-0e3e-473c-a584-763252111b03"
      },
      "source": [
        "fs= frozenset([\"g\",\"o\",\"o\",\"d\"])\n",
        "print(fs)\n",
        "\n",
        "animals=set([fs,\"cattle\",\"horse\"])\n",
        "print(animals)\n",
        "\n",
        "off_lang_world={\"English\":59,\"french\":29,\"Spanish\":21}\n",
        "frozenset(off_lang_world)\n",
        "frs=frozenset({\"German\"})\n",
        "off_lang_world={\"English\":59,\"french\":29,\"Spanish\":21,frs:6}\n",
        "print(off_lang_world)"
      ],
      "execution_count": 9,
      "outputs": [
        {
          "output_type": "stream",
          "text": [
            "frozenset({'o', 'd', 'g'})\n",
            "{'cattle', frozenset({'o', 'd', 'g'}), 'horse'}\n",
            "{'English': 59, 'french': 29, 'Spanish': 21, frozenset({'German'}): 6}\n"
          ],
          "name": "stdout"
        }
      ]
    },
    {
      "cell_type": "code",
      "metadata": {
        "id": "CLN2H4HmLD-l"
      },
      "source": [
        "  file=open('Python1.txt','a')\n",
        "  file.write(\"Hey there!!!\")\n",
        "  file.close()\n",
        "  "
      ],
      "execution_count": 14,
      "outputs": []
    },
    {
      "cell_type": "code",
      "metadata": {
        "colab": {
          "base_uri": "https://localhost:8080/"
        },
        "id": "R_jc6t4TTHnN",
        "outputId": "f0bbc89c-d7d3-42ea-fd22-04170bf41f12"
      },
      "source": [
        "file=open('Python1.txt','r')\n",
        "\n",
        "for each in file:\n",
        "  print(each)"
      ],
      "execution_count": 16,
      "outputs": [
        {
          "output_type": "stream",
          "text": [
            "Hey there!!!\n"
          ],
          "name": "stdout"
        }
      ]
    },
    {
      "cell_type": "code",
      "metadata": {
        "id": "xkd3Rab5bCu5"
      },
      "source": [
        "f1=open(\"python2.txt\",\"w\")\n",
        "L=[\"This is Pauri Garhwal\\n\",\"This is Uttarakhand\\n\"]\n",
        "\n",
        "f1.write(\"Hello\\n\")\n",
        "f1.writelines(L)\n",
        "f1.close()"
      ],
      "execution_count": 17,
      "outputs": []
    },
    {
      "cell_type": "code",
      "metadata": {
        "colab": {
          "base_uri": "https://localhost:8080/"
        },
        "id": "GnavQuilbtZc",
        "outputId": "2c98e531-c681-46a6-ba1e-4cb47b3d2d21"
      },
      "source": [
        "f1=open(\"python2.txt\",\"r+\")\n",
        "\n",
        "print(\"Output of read function is \")\n",
        "print(f1.read())\n",
        "print()\n",
        "\n",
        "f1.seek(0)\n",
        "\n",
        "print(\"Output of readline function is \")\n",
        "print(f1.readline())\n",
        "print()\n",
        "f1.seek(0)\n",
        "\n",
        "print(\"Output of read(9) function is \")\n",
        "print(f1.read(9))\n",
        "print()\n",
        "f1.seek(0)\n",
        "\n",
        "print(\"Output of readlines function is \")\n",
        "print(f1.readlines())\n",
        "print()\n",
        "f1.close()"
      ],
      "execution_count": 20,
      "outputs": [
        {
          "output_type": "stream",
          "text": [
            "Output of read function is \n",
            "Hello\n",
            "This is Pauri Garhwal\n",
            "This is Uttarakhand\n",
            "\n",
            "\n",
            "Output of readline function is \n",
            "Hello\n",
            "\n",
            "\n",
            "Output of read(9) function is \n",
            "Hello\n",
            "Thi\n",
            "\n",
            "Output of readlines function is \n",
            "['Hello\\n', 'This is Pauri Garhwal\\n', 'This is Uttarakhand\\n']\n",
            "\n"
          ],
          "name": "stdout"
        }
      ]
    }
  ]
}