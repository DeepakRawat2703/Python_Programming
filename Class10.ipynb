{
  "nbformat": 4,
  "nbformat_minor": 0,
  "metadata": {
    "colab": {
      "name": "Untitled0.ipynb",
      "provenance": [],
      "authorship_tag": "ABX9TyN17BrSQ3k6fYp4K0sUUmwo",
      "include_colab_link": true
    },
    "kernelspec": {
      "name": "python3",
      "display_name": "Python 3"
    },
    "language_info": {
      "name": "python"
    }
  },
  "cells": [
    {
      "cell_type": "markdown",
      "metadata": {
        "id": "view-in-github",
        "colab_type": "text"
      },
      "source": [
        "<a href=\"https://colab.research.google.com/github/DeepakRawat2703/Python_Programming/blob/main/Class10.ipynb\" target=\"_parent\"><img src=\"https://colab.research.google.com/assets/colab-badge.svg\" alt=\"Open In Colab\"/></a>"
      ]
    },
    {
      "cell_type": "code",
      "metadata": {
        "colab": {
          "base_uri": "https://localhost:8080/"
        },
        "id": "cgsqUAZmYlrm",
        "outputId": "63cdcbd9-07e3-448c-881d-2a9f1f46393a"
      },
      "source": [
        "#norse=\"vikings\"\n",
        "#stringTo_tuple=tuple(norse)\n",
        "#stringTo_tuple\n",
        "#('v','i','k','i','n','g','s')\n",
        "\n",
        "letters=(\"a\",\"b\",\"c\")\n",
        "numbers=(1,2,3)\n",
        "nested_tuples=(letters,numbers)\n",
        "nested_tuples\n",
        "tuple(\"welcome\")\n",
        "\n",
        "#li=[1,\"Deepak\"]\n",
        "#tup=(li,\"Deepak\")\n",
        "#print(tup)\n",
        "\n",
        "colours=(\"v\",\"i\",\"b\",\"b\",\"g\",\"y\",\"o\",\"r\")\n",
        "print(colours)\n",
        "print(colours[1:4])\n",
        "print(colours[:5])\n",
        "print(colours[3:])\n",
        "print(colours[:])\n",
        "print(colours[-5:-2])\n",
        "print(colours[1:5:2])\n",
        "\n",
        "years=(1993,1999,2000,2002)\n",
        "print(len(years))\n",
        "print(sum(years))\n",
        "\n",
        "F=(\"cat\",\"dog\",\"parrot\",\"crow\")\n",
        "pet_list=list(F)\n",
        "print(pet_list)\n",
        "\n",
        "german_cars=[\"porsche\",\"audi\",\"bmw\"]\n",
        "european_cars=(\"ferrari\",\"volvo\",\"renault\",['porsche','audi','bmw'])\n",
        "print(german_cars)\n",
        "print(european_cars)"
      ],
      "execution_count": 19,
      "outputs": [
        {
          "output_type": "stream",
          "text": [
            "('v', 'i', 'b', 'b', 'g', 'y', 'o', 'r')\n",
            "('i', 'b', 'b')\n",
            "('v', 'i', 'b', 'b', 'g')\n",
            "('b', 'g', 'y', 'o', 'r')\n",
            "('v', 'i', 'b', 'b', 'g', 'y', 'o', 'r')\n",
            "('b', 'g', 'y')\n",
            "('i', 'b')\n",
            "4\n",
            "7994\n",
            "['cat', 'dog', 'parrot', 'crow']\n",
            "['porsche', 'audi', 'bmw']\n",
            "('ferrari', 'volvo', 'renault', ['porsche', 'audi', 'bmw'])\n"
          ],
          "name": "stdout"
        }
      ]
    },
    {
      "cell_type": "code",
      "metadata": {
        "id": "catc3i6Ac-fn"
      },
      "source": [
        ""
      ],
      "execution_count": 18,
      "outputs": []
    }
  ]
}