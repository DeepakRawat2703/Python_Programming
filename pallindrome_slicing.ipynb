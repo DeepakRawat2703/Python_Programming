{
  "nbformat": 4,
  "nbformat_minor": 0,
  "metadata": {
    "colab": {
      "name": "Untitled0.ipynb",
      "provenance": [],
      "collapsed_sections": [],
      "authorship_tag": "ABX9TyOehxh31ofaVRY4iqHbbIR4",
      "include_colab_link": true
    },
    "kernelspec": {
      "name": "python3",
      "display_name": "Python 3"
    },
    "language_info": {
      "name": "python"
    }
  },
  "cells": [
    {
      "cell_type": "markdown",
      "metadata": {
        "id": "view-in-github",
        "colab_type": "text"
      },
      "source": [
        "<a href=\"https://colab.research.google.com/github/DeepakRawat2703/Python_Programming/blob/main/pallindrome_slicing.ipynb\" target=\"_parent\"><img src=\"https://colab.research.google.com/assets/colab-badge.svg\" alt=\"Open In Colab\"/></a>"
      ]
    },
    {
      "cell_type": "code",
      "metadata": {
        "id": "cgsqUAZmYlrm"
      },
      "source": [
        "#norse=\"vikings\"\n",
        "#stringTo_tuple=tuple(norse)\n",
        "#stringTo_tuple\n",
        "#('v','i','k','i','n','g','s')\n",
        "\n",
        "letters=(\"a\",\"b\",\"c\")\n",
        "numbers=(1,2,3)\n",
        "nested_tuples=(letters,numbers)\n",
        "nested_tuples\n",
        "tuple(\"welcome\")\n",
        "\n",
        "#li=[1,\"Deepak\"]\n",
        "#tup=(li,\"Deepak\")\n",
        "#print(tup)\n",
        "\n",
        "colours=(\"v\",\"i\",\"b\",\"b\",\"g\",\"y\",\"o\",\"r\")\n",
        "print(colours)\n",
        "print(colours[1:4])\n",
        "print(colours[:5])\n",
        "print(colours[3:])\n",
        "print(colours[:])\n",
        "print(colours[-5:-2])\n",
        "print(colours[1:5:2])\n",
        "\n",
        "years=(1993,1999,2000,2002)\n",
        "print(len(years))\n",
        "print(sum(years))\n",
        "\n",
        "F=(\"cat\",\"dog\",\"parrot\",\"crow\")\n",
        "pet_list=list(F)\n",
        "print(pet_list)\n",
        "\n",
        "german_cars=[\"porsche\",\"audi\",\"bmw\"]\n",
        "european_cars=(\"ferrari\",\"volvo\",\"renault\",['porsche','audi','bmw'])\n",
        "print(german_cars)\n",
        "print(european_cars)"
      ],
      "execution_count": null,
      "outputs": []
    },
    {
      "cell_type": "code",
      "metadata": {
        "id": "catc3i6Ac-fn",
        "colab": {
          "base_uri": "https://localhost:8080/"
        },
        "outputId": "b2fba588-dbee-4f0b-e525-eb8383924799"
      },
      "source": [
        "a1= input(\"Enter the string:\")\n",
        "\n",
        "if (a1==a1[::-1]):\n",
        "  print(\"It is a Pallindrome number\")\n",
        "else:\n",
        "  print(\"It is not a pallindrome number\")\n"
      ],
      "execution_count": 24,
      "outputs": [
        {
          "output_type": "stream",
          "text": [
            "Enter the string:1234\n",
            "It is not a pallindrome number\n"
          ],
          "name": "stdout"
        }
      ]
    }
  ]
}